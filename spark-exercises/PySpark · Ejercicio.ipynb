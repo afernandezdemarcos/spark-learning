{
 "cells": [
  {
   "cell_type": "markdown",
   "metadata": {
    "deletable": false,
    "editable": false
   },
   "source": [
    "Para poner en práctica nuestros amplios conocimientos recién adquiridos de Spark, realizaremos un caso práctico en el mundo financiero.  \n",
    "  \n",
    "En este caso, nos encontramos con dos tablas. Una contiene nuestros clientes. La otra sus datos de tarjeta.  \n",
    "  \n",
    "A lo largo del cuaderno se te irá guiando con las acciones que deberás realizar en cada celda."
   ]
  },
  {
   "cell_type": "markdown",
   "metadata": {
    "deletable": false,
    "editable": false
   },
   "source": [
    "#### Inicia el contexto de Spark\n",
    "Para esta tarea, se pide que la aplicación de Spark se llame 'JugandoASerBanquero' y la aplicación se ejecute en tantos worker nodes como núcleos disponibles hay en nuestra máquina."
   ]
  },
  {
   "cell_type": "code",
   "execution_count": 1,
   "metadata": {
    "deletable": false,
    "editable": false
   },
   "outputs": [],
   "source": [
    "import pyspark\n",
    "\n",
    "conf = pyspark.SparkConf().setAppName('JugandoASerBanquero').setMaster('local[*]') #Creamos la configuración\n",
    "sc = pyspark.SparkContext(conf = conf) #Abrimos el contexto de Spark"
   ]
  },
  {
   "cell_type": "code",
   "execution_count": 2,
   "metadata": {
    "deletable": false,
    "editable": false
   },
   "outputs": [],
   "source": [
    "import pyspark.sql\n",
    "\n",
    "sparkSession = pyspark.sql.SparkSession(sc, jsparkSession=None)\n",
    "\n",
    "spark = sparkSession\\\n",
    ".builder\\\n",
    ".master(\"local\")\\\n",
    ".appName(\"holi\")\\\n",
    ".config(\"spark.some.config.option\", \"some-value\")\\\n",
    ".getOrCreate()"
   ]
  },
  {
   "cell_type": "markdown",
   "metadata": {
    "deletable": false,
    "editable": false
   },
   "source": [
    "#### Lee los datos de clientes y tarjetas\n",
    "Estos datos están almacenados en dos archivos .txt, uno para **clientes** y otro para **tarjetas** dentro del directorio */data*.  \n",
    "Carga ambos datasets como RDDs en el contexto de Spark y muestra todos los clientes cargados. En cuanto a las tarjetas, muestra cúantas tarjetas hay, y aleatoriamente muestra por pantalla un número menor a las tarjetas existentes, sin reemplazamiento."
   ]
  },
  {
   "cell_type": "code",
   "execution_count": 3,
   "metadata": {
    "deletable": false,
    "editable": false
   },
   "outputs": [],
   "source": [
    "clientesRDD = sc.textFile(\"/home/afernandez/jupyter-spark/data/clientes.txt\")\n",
    "tarjetasRDD = sc.textFile(\"/home/afernandez/jupyter-spark/data/tarjetas.txt\")"
   ]
  },
  {
   "cell_type": "code",
   "execution_count": 4,
   "metadata": {
    "deletable": false,
    "editable": false
   },
   "outputs": [
    {
     "data": {
      "text/plain": [
       "['80000000,Antonio Lopez Ramirez,Calle Cantalapiedra 8',\n",
       " '70000000,Francisco Arias Sanchez,Avenida de America 12',\n",
       " '50000000,Norberto Marias Quintana,Calle Uganda 88',\n",
       " '10000000,Julio Cortazar Carter,Calle Bruselas 14',\n",
       " '20000000,Arturo Belano Yañez,Travesia de Calvo Sotelo 13']"
      ]
     },
     "execution_count": 4,
     "metadata": {},
     "output_type": "execute_result"
    }
   ],
   "source": [
    "clientesRDD.collect()"
   ]
  },
  {
   "cell_type": "code",
   "execution_count": 5,
   "metadata": {
    "deletable": false,
    "editable": false
   },
   "outputs": [
    {
     "data": {
      "text/plain": [
       "5"
      ]
     },
     "execution_count": 5,
     "metadata": {},
     "output_type": "execute_result"
    }
   ],
   "source": [
    "tarjetasRDD.count()"
   ]
  },
  {
   "cell_type": "code",
   "execution_count": 6,
   "metadata": {
    "deletable": false,
    "editable": false
   },
   "outputs": [
    {
     "data": {
      "text/plain": [
       "['20000000,Arturo Belano Yañez,American Express,1111222233334444',\n",
       " '50000000,Norberto Marias Quintana,Visa,1001100110011001',\n",
       " '10000000,Julio Cortazar Carter,Master Card,2003200320032003']"
      ]
     },
     "execution_count": 6,
     "metadata": {},
     "output_type": "execute_result"
    }
   ],
   "source": [
    "tarjetasRDD.takeSample(False, 3)"
   ]
  },
  {
   "cell_type": "markdown",
   "metadata": {
    "deletable": false,
    "editable": false
   },
   "source": [
    "#### Crear un archivo Clases.py\n",
    "En este archivo crea dos clases,\n",
    "1. ***Cliente***, la cual tiene estos atributos:\n",
    "    * DNI\n",
    "    * Nombre\n",
    "    * Direccion\n",
    "2. ***Tarjeta***, con los siguientes atributos:\n",
    "    * DNI\n",
    "    * Nombre\n",
    "    * Tipo de tarjeta\n",
    "    * Número de tarjeta  \n",
    "\n",
    "Como puedes observar en la carga de datos, el formato de los datos es un string por cliente o tarjeta, en el cual cada atributo está separado por una coma \",\".  \n",
    "Con tal de cargar los datos en los atributos de cada clase, define convenientemente la asignación de los elementos en el método \\__init__ de cada clase."
   ]
  },
  {
   "cell_type": "code",
   "execution_count": 7,
   "metadata": {
    "deletable": false,
    "editable": false
   },
   "outputs": [],
   "source": [
    "class Cliente:\n",
    "    def __init__(self, linea):\n",
    "        self.dni, self.nombre, self.direccion = linea.split(',')\n",
    "class Tarjeta(object):\n",
    "    def __init__(self, linea):\n",
    "        self.dni, self.nombre, self.tipo_tarjeta, self.num_tarjeta = linea.split(',')"
   ]
  },
  {
   "cell_type": "markdown",
   "metadata": {
    "deletable": false,
    "editable": false
   },
   "source": [
    "#### Transforma los datos de clientes y tarjetas obtenidos\n",
    "A continuación, crea los distintos objetos de clientes y tarjetas importados anteriormente. *Utiliza en al menos uno de ellos una **función lambda**.*"
   ]
  },
  {
   "cell_type": "code",
   "execution_count": 9,
   "metadata": {
    "deletable": false,
    "editable": false
   },
   "outputs": [],
   "source": [
    "from clases import Cliente, Tarjeta\n",
    "\n",
    "objClientesRDD = clientesRDD.map(Cliente)\n",
    "objTarjetasRDD = tarjetasRDD.map(lambda x: Tarjeta(x))"
   ]
  },
  {
   "cell_type": "markdown",
   "metadata": {
    "deletable": false,
    "editable": false
   },
   "source": [
    "Devuelve el primer cliente almacenado"
   ]
  },
  {
   "cell_type": "code",
   "execution_count": 10,
   "metadata": {
    "deletable": false,
    "editable": false
   },
   "outputs": [
    {
     "data": {
      "text/plain": [
       "<clases.Cliente at 0x7ff019a98c50>"
      ]
     },
     "execution_count": 10,
     "metadata": {},
     "output_type": "execute_result"
    }
   ],
   "source": [
    "objClientesRDD.first()"
   ]
  },
  {
   "cell_type": "markdown",
   "metadata": {
    "deletable": false,
    "editable": false
   },
   "source": [
    "#### Agrupa los clientes y tarjetas en un mismo RDD\n",
    "Ten en cuenta que se necesita un pairRDD para cruzar datasets."
   ]
  },
  {
   "cell_type": "code",
   "execution_count": 13,
   "metadata": {
    "deletable": false,
    "editable": false
   },
   "outputs": [],
   "source": [
    "# Tabla = objClientesRDD.join(objTarjetasRDD) --> Necesitamos clave-valor\n",
    "joinRDD = objClientesRDD.map(lambda x: (x.dni, x)).join(objTarjetasRDD.map(lambda x: (x.dni, x)))"
   ]
  },
  {
   "cell_type": "markdown",
   "metadata": {
    "deletable": false,
    "editable": false
   },
   "source": [
    "La estructura devuelta tiene la forma de un pair RDD,\n",
    "* **key**: DNI\n",
    "* **value**: Información completa del cliente y tarjeta en forma de tuple"
   ]
  },
  {
   "cell_type": "code",
   "execution_count": 14,
   "metadata": {
    "deletable": false,
    "editable": false
   },
   "outputs": [
    {
     "data": {
      "text/plain": [
       "[(<clases.Cliente at 0x7ff019a99668>, <clases.Tarjeta at 0x7ff019a997f0>),\n",
       " (<clases.Cliente at 0x7ff019a99780>, <clases.Tarjeta at 0x7ff019a99898>),\n",
       " (<clases.Cliente at 0x7ff019a99748>, <clases.Tarjeta at 0x7ff019a99908>),\n",
       " (<clases.Cliente at 0x7ff019a997b8>, <clases.Tarjeta at 0x7ff019a999b0>),\n",
       " (<clases.Cliente at 0x7ff019a99860>, <clases.Tarjeta at 0x7ff019a99a58>)]"
      ]
     },
     "execution_count": 14,
     "metadata": {},
     "output_type": "execute_result"
    }
   ],
   "source": [
    "joinRDD.values().collect()"
   ]
  },
  {
   "cell_type": "code",
   "execution_count": 15,
   "metadata": {
    "deletable": false,
    "editable": false
   },
   "outputs": [
    {
     "data": {
      "text/plain": [
       "['Arturo Belano Yañez - American Express - 9008900890089008',\n",
       " 'Arturo Belano Yañez - American Express - 1111222233334444',\n",
       " 'Francisco Arias Sanchez - Visa - 1200120012001200',\n",
       " 'Norberto Marias Quintana - Visa - 1001100110011001',\n",
       " 'Julio Cortazar Carter - Master Card - 2003200320032003']"
      ]
     },
     "execution_count": 15,
     "metadata": {},
     "output_type": "execute_result"
    }
   ],
   "source": [
    "ClientesTarjetas = joinRDD.map(lambda x: x[1][0].nombre + ' - ' + x[1][1].tipo_tarjeta + ' - ' + x[1][1].num_tarjeta)\n",
    "ClientesTarjetas.collect()"
   ]
  },
  {
   "cell_type": "code",
   "execution_count": 16,
   "metadata": {
    "deletable": false,
    "editable": false
   },
   "outputs": [
    {
     "name": "stdout",
     "output_type": "stream",
     "text": [
      "70000000\n",
      "(<clases.Cliente object at 0x7ff019a88f60>, <clases.Tarjeta object at 0x7ff019cc4710>)\n"
     ]
    }
   ],
   "source": [
    "print(joinRDD.collect()[2][0]) # Clave del tercer elemento\n",
    "print(joinRDD.collect()[1][1]) # Valor del segundo elemento"
   ]
  },
  {
   "cell_type": "markdown",
   "metadata": {
    "deletable": false,
    "editable": false
   },
   "source": [
    "#### Devuelve los datos cruzados\n",
    "Se pide que se devuelvan los datos con este formato.  \n",
    "\n",
    "*Nombre - Tipo de tarjeta - Número de tarjeta*"
   ]
  },
  {
   "cell_type": "markdown",
   "metadata": {
    "deletable": false,
    "editable": false
   },
   "source": [
    "Como vemos, al cruzar ambas tablas hay clientes que tienen más de una tarjeta, y por ello aparecen duplicados en la tabla de ClientesTarjetas. Por ello, a continuación agrupa las tarjetas y clientes únicos, de manera que obtengas un pairRDD con la siguiente estructura:\n",
    "* **key**: Cliente\n",
    "* **value**: Tarjetas, en forma de lista\n",
    "\n",
    "Debe quedar un RDD de estructura similar a:  \n",
    "***\\[(Cliente1, [Tarjeta1, Tarjeta2]),  \n",
    "(Cliente2, [Tarjeta1, Tarjeta2, Tarjeta3]),  \n",
    "(Cliente3, [Tarjeta1])\\]***"
   ]
  },
  {
   "cell_type": "code",
   "execution_count": 23,
   "metadata": {
    "deletable": false,
    "editable": false
   },
   "outputs": [
    {
     "data": {
      "text/plain": [
       "[('20000000', <pyspark.resultiterable.ResultIterable at 0x7f8c40acef98>),\n",
       " ('70000000', <pyspark.resultiterable.ResultIterable at 0x7f8c40ace390>),\n",
       " ('50000000', <pyspark.resultiterable.ResultIterable at 0x7f8c40ace160>),\n",
       " ('10000000', <pyspark.resultiterable.ResultIterable at 0x7f8c40ace0f0>)]"
      ]
     },
     "execution_count": 23,
     "metadata": {},
     "output_type": "execute_result"
    }
   ],
   "source": [
    "GroupedByDNI = joinRDD.groupByKey()\n",
    "GroupedByDNI.collect()"
   ]
  },
  {
   "cell_type": "markdown",
   "metadata": {
    "deletable": false,
    "editable": false
   },
   "source": [
    "Como se observa en la anterior ejecución, los valores del RDD GroupedByDNI son objetos iterables (que no podemos recorrer mediante un for), en cambio podemos mapear los valores mediante la función lista."
   ]
  },
  {
   "cell_type": "code",
   "execution_count": 232,
   "metadata": {
    "deletable": false,
    "editable": false
   },
   "outputs": [
    {
     "data": {
      "text/plain": [
       "[('20000000',\n",
       "  [(<clases.Cliente at 0x7f5bb02aada0>, <clases.Tarjeta at 0x7f5bb0266b38>),\n",
       "   (<clases.Cliente at 0x7f5bb02aada0>, <clases.Tarjeta at 0x7f5bb0266278>)]),\n",
       " ('70000000',\n",
       "  [(<clases.Cliente at 0x7f5bb0266438>, <clases.Tarjeta at 0x7f5bb0266b00>)]),\n",
       " ('50000000',\n",
       "  [(<clases.Cliente at 0x7f5bb0266c88>, <clases.Tarjeta at 0x7f5bb0266630>)]),\n",
       " ('10000000',\n",
       "  [(<clases.Cliente at 0x7f5bb0266400>, <clases.Tarjeta at 0x7f5bb02663c8>)])]"
      ]
     },
     "execution_count": 232,
     "metadata": {},
     "output_type": "execute_result"
    }
   ],
   "source": [
    "GroupedByDNI = joinRDD.groupByKey().mapValues(list)\n",
    "# GroupedByDNI = Finaljoin.map(lambda x: (x[0],list(x[1]))) # Es equivalente a la anterior linea\n",
    "GroupedByDNI.collect()"
   ]
  },
  {
   "cell_type": "code",
   "execution_count": 71,
   "metadata": {
    "deletable": false,
    "editable": false
   },
   "outputs": [],
   "source": [
    "def ExtractCards(x):\n",
    "    value = []\n",
    "    for elemento in x[1]:\n",
    "        key = elemento[0]\n",
    "        key = key.nombre\n",
    "        valor = elemento[1]\n",
    "        value.append(valor)\n",
    "    return (key,value)"
   ]
  },
  {
   "cell_type": "code",
   "execution_count": 72,
   "metadata": {
    "deletable": false,
    "editable": false,
    "scrolled": true
   },
   "outputs": [
    {
     "data": {
      "text/plain": [
       "[('Arturo Belano Yañez',\n",
       "  [<clases.Tarjeta at 0x7f8c40ad5470>, <clases.Tarjeta at 0x7f8c40ae2240>]),\n",
       " ('Francisco Arias Sanchez', [<clases.Tarjeta at 0x7f8c40ae2be0>]),\n",
       " ('Norberto Marias Quintana', [<clases.Tarjeta at 0x7f8c40ae2e10>]),\n",
       " ('Julio Cortazar Carter', [<clases.Tarjeta at 0x7f8c40ae2320>])]"
      ]
     },
     "execution_count": 72,
     "metadata": {},
     "output_type": "execute_result"
    }
   ],
   "source": [
    "ClientesTarjetas = GroupedByDNI.map(ExtractCards)\n",
    "ClientesTarjetas.collect()"
   ]
  },
  {
   "cell_type": "code",
   "execution_count": 20,
   "metadata": {},
   "outputs": [],
   "source": [
    "ClientesTarjetas = joinRDD.map(lambda x: x[1][0].dni + ',' + x[1][0].nombre + ',' + x[1][0].direccion + ',' + x[1][1].tipo_tarjeta + ',' + x[1][1].num_tarjeta)\n",
    "ClientesTarjetas.saveAsTextFile(\"/home/afernandez/jupyter-spark/data/bankcards\")"
   ]
  },
  {
   "cell_type": "markdown",
   "metadata": {},
   "source": [
    "PART 2"
   ]
  },
  {
   "cell_type": "code",
   "execution_count": 39,
   "metadata": {},
   "outputs": [
    {
     "name": "stdout",
     "output_type": "stream",
     "text": [
      "+--------+--------------------+--------------------+----------------+----------------+\n",
      "|     DNI|                Name|             Address|        CardType|      CardNumber|\n",
      "+--------+--------------------+--------------------+----------------+----------------+\n",
      "|20000000| Arturo Belano Yañez|Travesia de Calvo...|American Express|9008900890089010|\n",
      "|20000000| Arturo Belano Yañez|Travesia de Calvo...|American Express|1111222233334444|\n",
      "|70000000|Francisco Arias S...|Avenida de Americ...|            Visa|1200120012001200|\n",
      "|50000000|Norberto Marias Q...|     Calle Uganda 88|            Visa|1001100110011001|\n",
      "|10000000|Julio Cortazar Ca...|   Calle Bruselas 14|     Master Card|2003200320032003|\n",
      "+--------+--------------------+--------------------+----------------+----------------+\n",
      "\n"
     ]
    }
   ],
   "source": [
    "from pyspark.sql.types import *\n",
    "schemaCards = (StructType([\n",
    "    StructField(\"DNI\", IntegerType(), True),\n",
    "    StructField(\"Name\", StringType(), True),\n",
    "    StructField(\"Address\", StringType(), True),\n",
    "    StructField(\"CardType\", StringType(), True),\n",
    "    StructField(\"CardNumber\", LongType(), True)]))\n",
    "\n",
    "clientscards = spark.read.load(\"/home/afernandez/jupyter-spark/data/bankcard.csv\",\n",
    "                     format=\"csv\", sep=\",\", header=\"true\", schema = schemaCards)\n",
    "\n",
    "clientscards.show()"
   ]
  },
  {
   "cell_type": "code",
   "execution_count": 55,
   "metadata": {},
   "outputs": [
    {
     "name": "stdout",
     "output_type": "stream",
     "text": [
      "root\n",
      " |-- DNI: integer (nullable = true)\n",
      " |-- Name: string (nullable = true)\n",
      " |-- Address: string (nullable = true)\n",
      " |-- CardType: string (nullable = true)\n",
      " |-- CardNumber: long (nullable = true)\n",
      "\n"
     ]
    }
   ],
   "source": [
    "clientscards.printSchema()"
   ]
  },
  {
   "cell_type": "code",
   "execution_count": 49,
   "metadata": {},
   "outputs": [
    {
     "name": "stdout",
     "output_type": "stream",
     "text": [
      "+--------------------+--------+\n",
      "|                Name|     DNI|\n",
      "+--------------------+--------+\n",
      "|Francisco Arias S...|70000000|\n",
      "|Norberto Marias Q...|50000000|\n",
      "+--------------------+--------+\n",
      "\n"
     ]
    }
   ],
   "source": [
    "VISA = clientscards.filter(clientscards['CardType'] == 'Visa')\n",
    "VISA.select(VISA['Name'], VISA['DNI']).show()"
   ]
  },
  {
   "cell_type": "code",
   "execution_count": 50,
   "metadata": {},
   "outputs": [
    {
     "name": "stdout",
     "output_type": "stream",
     "text": [
      "+----------------+-----+\n",
      "|        CardType|count|\n",
      "+----------------+-----+\n",
      "|American Express|    2|\n",
      "|            Visa|    2|\n",
      "|     Master Card|    1|\n",
      "+----------------+-----+\n",
      "\n"
     ]
    }
   ],
   "source": [
    "clientscards.groupBy(\"CardType\").count().show()"
   ]
  },
  {
   "cell_type": "code",
   "execution_count": 70,
   "metadata": {},
   "outputs": [
    {
     "name": "stdout",
     "output_type": "stream",
     "text": [
      "+-------------------+--------+\n",
      "|               Name|     DNI|\n",
      "+-------------------+--------+\n",
      "|Arturo Belano Yañez|20000000|\n",
      "+-------------------+--------+\n",
      "\n"
     ]
    }
   ],
   "source": [
    "clientscards.createOrReplaceTempView(\"clientestarjetas\")\n",
    "\n",
    "sqlDF = spark.sql(\"SELECT Name, DNI FROM clientestarjetas WHERE CardType='American Express' \")\n",
    "sqlDF.distinct().show()"
   ]
  },
  {
   "cell_type": "markdown",
   "metadata": {
    "deletable": false,
    "editable": false
   },
   "source": [
    "#### Finalice el contexto de Spark"
   ]
  },
  {
   "cell_type": "code",
   "execution_count": 33,
   "metadata": {
    "deletable": false,
    "editable": false
   },
   "outputs": [],
   "source": [
    "sc.stop()"
   ]
  }
 ],
 "metadata": {
  "kernelspec": {
   "display_name": "Python 3",
   "language": "python",
   "name": "python3"
  },
  "language_info": {
   "codemirror_mode": {
    "name": "ipython",
    "version": 3
   },
   "file_extension": ".py",
   "mimetype": "text/x-python",
   "name": "python",
   "nbconvert_exporter": "python",
   "pygments_lexer": "ipython3",
   "version": "3.5.2"
  }
 },
 "nbformat": 4,
 "nbformat_minor": 2
}
