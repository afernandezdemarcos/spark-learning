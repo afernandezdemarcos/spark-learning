{
 "cells": [
  {
   "cell_type": "markdown",
   "metadata": {
    "deletable": false,
    "editable": false
   },
   "source": [
    "#### INTRODUCTION EXERCISE TO SPARK"
   ]
  },
  {
   "cell_type": "code",
   "execution_count": 1,
   "metadata": {
    "deletable": false,
    "editable": false
   },
   "outputs": [],
   "source": [
    "import pyspark\n",
    "\n",
    "conf = pyspark.SparkConf().setAppName('JugandoASerBanquero').setMaster('local[*]') #Creamos la configuración\n",
    "sc = pyspark.SparkContext(conf = conf) #Abrimos el contexto de Spark"
   ]
  },
  {
   "cell_type": "code",
   "execution_count": 2,
   "metadata": {
    "deletable": false,
    "editable": false
   },
   "outputs": [],
   "source": [
    "import pyspark.sql\n",
    "\n",
    "sparkSession = pyspark.sql.SparkSession(sc, jsparkSession=None)\n",
    "\n",
    "spark = sparkSession\\\n",
    ".builder\\\n",
    ".master(\"local\")\\\n",
    ".appName(\"Let'sSpark\")\\\n",
    ".config(\"spark.some.config.option\", \"some-value\")\\\n",
    ".getOrCreate()"
   ]
  },
  {
   "cell_type": "code",
   "execution_count": 3,
   "metadata": {
    "deletable": false,
    "editable": false
   },
   "outputs": [
    {
     "name": "stdout",
     "output_type": "stream",
     "text": [
      "+-----------------+--------------------+--------+\n",
      "|           Nombre|                Tipo|Cantidad|\n",
      "+-----------------+--------------------+--------+\n",
      "|  María Sharapova|Bars and restaurants|   36512|\n",
      "|  Augustus Caesar|Bars and restaurants|   21837|\n",
      "|    Holly Valance|Bars and restaurants|   18089|\n",
      "|      Charlemagne|Bars and restaurants|   16977|\n",
      "|        Liu Xiang|Bars and restaurants|   14400|\n",
      "|      Burn Gorman|Bars and restaurants|   13530|\n",
      "|   Darren Lockyer|Bars and restaurants|   12393|\n",
      "|   Julius Peppers|Bars and restaurants|   12207|\n",
      "|   Bryan Cranston|Bars and restaurants|   11291|\n",
      "|         Pericles|Bars and restaurants|   10939|\n",
      "|Malik Bendjelloul|Bars and restaurants|   10937|\n",
      "| Shaquille O'Neal|Bars and restaurants|   10909|\n",
      "|      Amber Heard|Bars and restaurants|   10695|\n",
      "|      Emma Watson|Bars and restaurants|   10395|\n",
      "|   Scottie Pippen|Bars and restaurants|   10348|\n",
      "|     TaShya Nixon|Bars and restaurants|    9156|\n",
      "|    Hayden Herman|Bars and restaurants|    8899|\n",
      "|    Derek Goodwin|Bars and restaurants|    8321|\n",
      "|     Cyrus Savage|Bars and restaurants|    7998|\n",
      "|      Troy Mullen|Bars and restaurants|    7888|\n",
      "+-----------------+--------------------+--------+\n",
      "only showing top 20 rows\n",
      "\n"
     ]
    }
   ],
   "source": [
    "from pyspark.sql.types import *\n",
    "restaurante_schema = (StructType([\n",
    "         StructField(\"Nombre\",StringType(),True),\n",
    "         StructField(\"Tipo\",StringType(),True),\n",
    "         StructField(\"Cantidad\",IntegerType(),True)]))\n",
    "restaurante = spark.read.load('./datos-spark-intro.csv', format='csv', schema=restaurante_schema)\n",
    "restaurante.show()"
   ]
  },
  {
   "cell_type": "markdown",
   "metadata": {
    "deletable": false,
    "editable": false,
    "run_control": {
     "frozen": true
    }
   },
   "source": [
    "**PART 1:** Count number of restaurants movements greater than 10,000€"
   ]
  },
  {
   "cell_type": "code",
   "execution_count": 4,
   "metadata": {
    "deletable": false,
    "editable": false
   },
   "outputs": [
    {
     "data": {
      "text/plain": [
       "70"
      ]
     },
     "execution_count": 4,
     "metadata": {},
     "output_type": "execute_result"
    }
   ],
   "source": [
    "numeroDeComilones = restaurante.filter(restaurante['Cantidad'] > 10000).count()\n",
    "numeroDeComilones"
   ]
  },
  {
   "cell_type": "markdown",
   "metadata": {
    "deletable": false,
    "editable": false,
    "run_control": {
     "frozen": true
    }
   },
   "source": [
    "**PART 2:** Collect the top 6 people who have spent more than 6,000€ in restaurants"
   ]
  },
  {
   "cell_type": "code",
   "execution_count": 5,
   "metadata": {
    "deletable": false,
    "editable": false
   },
   "outputs": [
    {
     "name": "stdout",
     "output_type": "stream",
     "text": [
      "+-----------------+--------------------+--------+\n",
      "|           Nombre|                Tipo|Cantidad|\n",
      "+-----------------+--------------------+--------+\n",
      "|     Donald Trump|Bars and restaurants|   40254|\n",
      "|George Washington|Bars and restaurants|   38776|\n",
      "|        Brad Pitt|Bars and restaurants|   36962|\n",
      "|  María Sharapova|Bars and restaurants|   36512|\n",
      "|   Queen Victoria|Bars and restaurants|   36109|\n",
      "|        Tarantino|Bars and restaurants|   29553|\n",
      "+-----------------+--------------------+--------+\n",
      "only showing top 6 rows\n",
      "\n"
     ]
    }
   ],
   "source": [
    "from pyspark.sql.functions import *\n",
    "comilones = restaurante.filter(restaurante['Cantidad'] > 6000).sort(col(\"Cantidad\").desc())\n",
    "comilones.show(6)"
   ]
  },
  {
   "cell_type": "code",
   "execution_count": 6,
   "metadata": {
    "deletable": false,
    "editable": false
   },
   "outputs": [],
   "source": [
    "sc.stop()"
   ]
  }
 ],
 "metadata": {
  "kernelspec": {
   "display_name": "Python 3",
   "language": "python",
   "name": "python3"
  },
  "language_info": {
   "codemirror_mode": {
    "name": "ipython",
    "version": 3
   },
   "file_extension": ".py",
   "mimetype": "text/x-python",
   "name": "python",
   "nbconvert_exporter": "python",
   "pygments_lexer": "ipython3",
   "version": "3.5.2"
  }
 },
 "nbformat": 4,
 "nbformat_minor": 2
}
